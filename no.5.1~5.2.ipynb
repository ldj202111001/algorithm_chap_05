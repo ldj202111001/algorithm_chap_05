{
 "cells": [
  {
   "cell_type": "markdown",
   "metadata": {},
   "source": [
    "# 1. 문제정의\n",
    "리스트가 주어졌을 때, 병합정렬 이용하여 리스트를 오름차순으로 정렬하라."
   ]
  },
  {
   "cell_type": "markdown",
   "metadata": {},
   "source": [
    "# 2. 알고리즘 설명\n",
    "1. 리스트의 크기를 가장 작은 크기로 분할한다.   \n",
    "2. "
   ]
  },
  {
   "cell_type": "markdown",
   "metadata": {},
   "source": [
    "# 3. 손으로 푼 예제"
   ]
  },
  {
   "cell_type": "markdown",
   "metadata": {},
   "source": [
    "# 4. 코드 설명\n",
    "#### 1. 자료구조 정의\n",
    "리스트 A:   \n",
    "데이터가 무작위로 위치한 리스트   \n",
    "left:   \n",
    "리스트의 맨 왼쪽 인덱스   \n",
    "right:   \n",
    "리스트의 맨 오른쪽 인덱스   \n",
    "mid:   \n",
    "리스트의 중간 인덱스   \n",
    "sorted[]:   \n",
    "완전히 정렬된 데이트들을 삽입할 다른 리스트   \n",
    "#### 2. 함수 정의\n",
    "def merge(A, left, mid, right)   \n",
    "매개변수: 리스트, 분할할 리스트의 첫번째 인덱스, 분할할 리스트의 중간 인덱스, 분할할 리스트의 마지막 인덱스   \n",
    "함수내용: 분할한 리스트를 병합한다, 병합하는 과정에서 정렬을 시행한다. \n",
    "   \n",
    "def merge_sort(A, left, right)   \n",
    "매개변수: 리스트, 분할할 리스트의 첫번째 인덱스, 분할할 리스트의 마지막 인덱스   \n",
    "함수내용: 리스트를 분할하여 분할한 리스트들을 각각 merge()의 매개변수로 전달\n"
   ]
  },
  {
   "cell_type": "markdown",
   "metadata": {},
   "source": [
    "# 5. 알고리즘 코드"
   ]
  },
  {
   "cell_type": "code",
   "execution_count": 11,
   "metadata": {},
   "outputs": [
    {
     "name": "stdout",
     "output_type": "stream",
     "text": [
      "1\n",
      "2\n",
      "3\n",
      "4\n",
      "5\n",
      "7\n",
      "8\n",
      "9\n"
     ]
    }
   ],
   "source": [
    "def merge(A, left, mid, right):\n",
    "    k = left # sorted 의 인덱스\n",
    "    i = left # 왼쪽 리스트 A 의 첫번째 인덱스\n",
    "    j = mid + 1 # 오른쪽 리스트 A 의 첫번째 인덱스\n",
    "    while i <= mid and j <= right:  # 왼쪽 리스트를 끝까지 and 오른쪽 리스트를 끝까지 (둘중에 하나라도 끝까지 갔다면 반복문 탈출)\n",
    "        if A[i] <= A[j]:\n",
    "            sorted[k] = A[i]\n",
    "            i, k = i + 1, k + 1\n",
    "        else:\n",
    "            sorted[k] = A[j]\n",
    "            j, k = j+1, k+1\n",
    "\n",
    "    if i > mid:                               # 나머지를 sorted 에 복사\n",
    "        sorted[k:k+right-j+1] = A[j:right+1]\n",
    "    else:\n",
    "        sorted[k:k+mid-i+1] = A[i:mid+1]\n",
    "\n",
    "    A[left:right+1] = sorted[left:right+1] # 정렬한 sorted 리스트를 A 리스트에 일괄복사\n",
    "\n",
    "def merge_sort(A, left, right):\n",
    "    if left < right:\n",
    "        mid = (left + right) // 2\n",
    "        merge_sort(A, left, mid)\n",
    "        merge_sort(A, mid+1, right)\n",
    "        merge(A, left, mid, right)\n",
    "\n",
    "A = [8, 1, 7, 3, 9, 2, 4, 5]\n",
    "\n",
    "sorted = [0] * len(A)\n",
    "\n",
    "merge_sort(A, 0, len(A)-1)\n",
    "\n",
    "for i in range(len(A)):\n",
    "    print(sorted[i])\n",
    "\n"
   ]
  },
  {
   "cell_type": "markdown",
   "metadata": {},
   "source": [
    "# 6. 테스트 코드 (입력을 바꾸어)\n"
   ]
  },
  {
   "cell_type": "code",
   "execution_count": 13,
   "metadata": {},
   "outputs": [
    {
     "name": "stdout",
     "output_type": "stream",
     "text": [
      "1\n",
      "2\n",
      "4\n",
      "5\n",
      "7\n",
      "9\n"
     ]
    }
   ],
   "source": [
    "def merge(A, left, mid, right):\n",
    "    k = left # sorted 의 인덱스\n",
    "    i = left\n",
    "    j = mid + 1\n",
    "    while i <= mid and j <= right:\n",
    "        if A[i] <= A[j]:\n",
    "            sorted[k] = A[i]\n",
    "            i, k = i + 1, k + 1\n",
    "        else:\n",
    "            sorted[k] = A[j]\n",
    "            j, k = j+1, k+1\n",
    "\n",
    "    if i > mid:                               # 나머지를 sorted 에 복사\n",
    "        sorted[k:k+right-j+1] = A[j:right+1]\n",
    "    else:\n",
    "        sorted[k:k+mid-i+1] = A[i:mid+1]\n",
    "\n",
    "    A[left:right+1] = sorted[left:right+1]\n",
    "\n",
    "def merge_sort(A, left, right):\n",
    "    if left < right:\n",
    "        mid = (left + right) // 2\n",
    "        merge_sort(A, left, mid)\n",
    "        merge_sort(A, mid+1, right)\n",
    "        merge(A, left, mid, right)\n",
    "\n",
    "A = [4, 2, 9, 7, 1, 5]\n",
    "\n",
    "sorted = [0] * len(A)\n",
    "\n",
    "merge_sort(A, 0, len(A)-1)\n",
    "\n",
    "for i in range(len(A)):\n",
    "    print(sorted[i])"
   ]
  },
  {
   "cell_type": "markdown",
   "metadata": {},
   "source": [
    "# 7. 수행 결과"
   ]
  },
  {
   "cell_type": "markdown",
   "metadata": {},
   "source": [
    "# 8. 복잡도 분석"
   ]
  },
  {
   "cell_type": "markdown",
   "metadata": {},
   "source": [
    "# 9."
   ]
  }
 ],
 "metadata": {
  "kernelspec": {
   "display_name": "Python 3",
   "language": "python",
   "name": "python3"
  },
  "language_info": {
   "codemirror_mode": {
    "name": "ipython",
    "version": 3
   },
   "file_extension": ".py",
   "mimetype": "text/x-python",
   "name": "python",
   "nbconvert_exporter": "python",
   "pygments_lexer": "ipython3",
   "version": "3.12.2"
  }
 },
 "nbformat": 4,
 "nbformat_minor": 2
}
